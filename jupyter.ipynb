{
 "cells": [
  {
   "cell_type": "code",
   "execution_count": 1,
   "metadata": {},
   "outputs": [
    {
     "data": {
      "application/vnd.jupyter.widget-view+json": {
       "model_id": "ab105dbcf2f244d39ce7440b2884bbdc",
       "version_major": 2,
       "version_minor": 0
      },
      "text/plain": [
       "modules.json:   0%|          | 0.00/349 [00:00<?, ?B/s]"
      ]
     },
     "metadata": {},
     "output_type": "display_data"
    },
    {
     "data": {
      "application/vnd.jupyter.widget-view+json": {
       "model_id": "48c12259b987462d825103522dbfaf1a",
       "version_major": 2,
       "version_minor": 0
      },
      "text/plain": [
       "config_sentence_transformers.json:   0%|          | 0.00/123 [00:00<?, ?B/s]"
      ]
     },
     "metadata": {},
     "output_type": "display_data"
    },
    {
     "data": {
      "application/vnd.jupyter.widget-view+json": {
       "model_id": "35ca39771b714ad786ef19bae3c033fe",
       "version_major": 2,
       "version_minor": 0
      },
      "text/plain": [
       "README.md:   0%|          | 0.00/15.8k [00:00<?, ?B/s]"
      ]
     },
     "metadata": {},
     "output_type": "display_data"
    },
    {
     "data": {
      "application/vnd.jupyter.widget-view+json": {
       "model_id": "cf513b7604de4e0285d3a68bf87df011",
       "version_major": 2,
       "version_minor": 0
      },
      "text/plain": [
       "sentence_bert_config.json:   0%|          | 0.00/54.0 [00:00<?, ?B/s]"
      ]
     },
     "metadata": {},
     "output_type": "display_data"
    },
    {
     "data": {
      "application/vnd.jupyter.widget-view+json": {
       "model_id": "40befb4f129140a8864fefede6640868",
       "version_major": 2,
       "version_minor": 0
      },
      "text/plain": [
       "config.json:   0%|          | 0.00/687 [00:00<?, ?B/s]"
      ]
     },
     "metadata": {},
     "output_type": "display_data"
    },
    {
     "data": {
      "application/vnd.jupyter.widget-view+json": {
       "model_id": "629c3e73c58f484388aa31a6f64458e8",
       "version_major": 2,
       "version_minor": 0
      },
      "text/plain": [
       "pytorch_model.bin:   0%|          | 0.00/2.27G [00:00<?, ?B/s]"
      ]
     },
     "metadata": {},
     "output_type": "display_data"
    },
    {
     "data": {
      "application/vnd.jupyter.widget-view+json": {
       "model_id": "44c44aae67574687be010a49e8a50520",
       "version_major": 2,
       "version_minor": 0
      },
      "text/plain": [
       "tokenizer_config.json:   0%|          | 0.00/444 [00:00<?, ?B/s]"
      ]
     },
     "metadata": {},
     "output_type": "display_data"
    },
    {
     "data": {
      "application/vnd.jupyter.widget-view+json": {
       "model_id": "ed3372a7cd1f41c4a27d4fac0161c0f7",
       "version_major": 2,
       "version_minor": 0
      },
      "text/plain": [
       "sentencepiece.bpe.model:   0%|          | 0.00/5.07M [00:00<?, ?B/s]"
      ]
     },
     "metadata": {},
     "output_type": "display_data"
    },
    {
     "data": {
      "application/vnd.jupyter.widget-view+json": {
       "model_id": "479362a35363470c85221cfeaa709207",
       "version_major": 2,
       "version_minor": 0
      },
      "text/plain": [
       "tokenizer.json:   0%|          | 0.00/17.1M [00:00<?, ?B/s]"
      ]
     },
     "metadata": {},
     "output_type": "display_data"
    },
    {
     "data": {
      "application/vnd.jupyter.widget-view+json": {
       "model_id": "37b20d492e404173bb47dd1c42454b74",
       "version_major": 2,
       "version_minor": 0
      },
      "text/plain": [
       "model.safetensors:   0%|          | 0.00/2.27G [00:00<?, ?B/s]"
      ]
     },
     "metadata": {},
     "output_type": "display_data"
    },
    {
     "data": {
      "application/vnd.jupyter.widget-view+json": {
       "model_id": "ecf3783ea678461a9dddb6c852ecadd6",
       "version_major": 2,
       "version_minor": 0
      },
      "text/plain": [
       "special_tokens_map.json:   0%|          | 0.00/964 [00:00<?, ?B/s]"
      ]
     },
     "metadata": {},
     "output_type": "display_data"
    },
    {
     "data": {
      "application/vnd.jupyter.widget-view+json": {
       "model_id": "b28a1940d2354306963632bdcae306f9",
       "version_major": 2,
       "version_minor": 0
      },
      "text/plain": [
       "1_Pooling/config.json:   0%|          | 0.00/191 [00:00<?, ?B/s]"
      ]
     },
     "metadata": {},
     "output_type": "display_data"
    }
   ],
   "source": [
    "from langchain_huggingface import HuggingFaceEmbeddings\n",
    "from langchain_community.vectorstores import FAISS\n",
    "from langchain_ollama import ChatOllama\n",
    "from langchain_core.prompts import ChatPromptTemplate, PromptTemplate\n",
    "from langchain.chains import create_history_aware_retriever, create_retrieval_chain\n",
    "from langchain.chains.combine_documents import create_stuff_documents_chain\n",
    "from langchain.text_splitter import RecursiveCharacterTextSplitter\n",
    "from langchain_community.document_loaders import PyPDFLoader\n",
    "import os\n",
    "\n",
    "# Configurações\n",
    "model_name = \"BAAI/bge-m3\"\n",
    "output_folder = 'vectorstore'\n",
    "existing_db_path = 'vectorstore/db_faiss_all_pdfs'\n",
    "\n",
    "\n",
    "def load_and_process_pdfs(pdf_folder):\n",
    "    documents = []\n",
    "    for filename in os.listdir(pdf_folder):\n",
    "        if filename.endswith('.pdf'):\n",
    "            file_path = os.path.join(pdf_folder, filename)\n",
    "            loader = PyPDFLoader(file_path)\n",
    "            documents.extend(loader.load())\n",
    "    \n",
    "    text_splitter = RecursiveCharacterTextSplitter(chunk_size=1000, chunk_overlap=200)\n",
    "    split_docs = text_splitter.split_documents(documents)\n",
    "    return split_docs\n",
    "\n",
    "\n",
    "def get_vectorstore(pdf_folder):\n",
    "    embeddings = HuggingFaceEmbeddings(model_name=model_name)\n",
    "    if os.path.exists(existing_db_path):\n",
    "        return FAISS.load_local(existing_db_path, embeddings, allow_dangerous_deserialization=True)\n",
    "    else:\n",
    "        docs = load_and_process_pdfs(pdf_folder)\n",
    "        vectorstore = FAISS.from_documents(docs, embeddings)\n",
    "        vectorstore.save_local(existing_db_path)\n",
    "        return vectorstore\n",
    "\n",
    "\n",
    "vectorstore = get_vectorstore('pdf')\n",
    "retriever = vectorstore.as_retriever(search_type=\"mmr\", search_kwargs={'k': 3, 'fetch_k': 5})"
   ]
  },
  {
   "cell_type": "code",
   "execution_count": 2,
   "metadata": {},
   "outputs": [],
   "source": [
    "def model_ollama(model=\"llama3.2\", temperature=0.1):\n",
    "    return ChatOllama(model=model, temperature=temperature)\n",
    "\n",
    "llm = model_ollama()"
   ]
  },
  {
   "cell_type": "code",
   "execution_count": 3,
   "metadata": {},
   "outputs": [],
   "source": [
    "context_q_system_prompt = \"\"\"\n",
    "Dado o histórico de chat e a pergunta de acompanhamento, que pode fazer referência ao contexto no histórico do chat, \n",
    "formule uma pergunta independente que possa ser entendida sem o histórico do chat. \n",
    "NÃO responda à pergunta, apenas reformule-a se necessário e, caso contrário, retorne-a como está.\n",
    "\"\"\"\n",
    "\n",
    "qa_prompt_template = \"\"\"\n",
    "Você é um assistente virtual especializado em analisar e responder perguntas sobre medicamentos.\n",
    "Use os seguintes trechos de contexto recuperado para responder à pergunta.\n",
    "Se você não souber a resposta, diga honestamente que não sabe. Mantenha a resposta concisa e focada.\n",
    "Se for solicitado a listar as referências dos artigos, leias, informações específicas do documento, faça-o de forma estruturada e clara.\n",
    "Responda em português.\n",
    "\n",
    "Pergunta: {input}\n",
    "\n",
    "Contexto: {context}\n",
    "\n",
    "Resposta:\n",
    "\"\"\"\n",
    "\n",
    "context_q_prompt = ChatPromptTemplate.from_messages([\n",
    "    (\"system\", context_q_system_prompt),\n",
    "    (\"human\", \"Pergunta: {input}\")\n",
    "])\n",
    "\n",
    "history_aware_retriever = create_history_aware_retriever(llm=llm, retriever=retriever, prompt=context_q_prompt)\n",
    "\n",
    "qa_prompt = PromptTemplate.from_template(qa_prompt_template)\n",
    "qa_chain = create_stuff_documents_chain(llm, qa_prompt)\n",
    "rag_chain = create_retrieval_chain(history_aware_retriever, qa_chain)\n",
    "\n",
    "# Função para fazer perguntas\n",
    "def ask_question(question, chat_history=''): \n",
    "    result = rag_chain.invoke({\"input\": question, \"chat_history\": chat_history})\n",
    "    return result['answer']"
   ]
  },
  {
   "cell_type": "code",
   "execution_count": 6,
   "metadata": {},
   "outputs": [
    {
     "name": "stdout",
     "output_type": "stream",
     "text": [
      "A posologia da dipirona é a seguinte:\n",
      "\n",
      "* Adultos e adolescentes acima de 15 anos: 20 a 40 gotas em administração única ou até o máximo de 40 gotas, 4 vezes ao dia.\n",
      "* Crianças: devem receber dipirona monoidratada solução oral (gotas) conforme seu peso seguindo a orientação do esquema abaixo:\n",
      " + Peso: \n",
      " - Até 10 kg: 5-10 gotas\n",
      " - 11-20 kg: 10-15 gotas\n",
      " - 21-30 kg: 15-20 gotas\n",
      " - Acima de 30 kg: 20-25 gotas\n",
      "\n",
      "É importante notar que a administração de dipirona deve ser feita com cuidado em pacientes com condições específicas, como asma brônquica, urticária crônica, intolerância ao álcool e intolerância a corantes ou conservantes. Além disso, é recomendada supervisão médica em pacientes idosos, crianças pequenas e outros grupos de risco.\n"
     ]
    }
   ],
   "source": [
    "user_query = 'De acordo com a bula, qual a posologia da dipirona? Não especifique o público alvo'\n",
    "response = ask_question(user_query)\n",
    "print(response)"
   ]
  },
  {
   "cell_type": "code",
   "execution_count": 5,
   "metadata": {},
   "outputs": [
    {
     "name": "stdout",
     "output_type": "stream",
     "text": [
      "Segundo a bula da dipirona, as posologias indicadas são:\n",
      "\n",
      "* Adultos e adolescentes acima de 15 anos: 20 a 40 gotas em administração única ou até o máximo de 40 gotas, 4 vezes ao dia.\n",
      "* Crianças: recebem dipirona monoidratada solução oral (gotas) conforme seu peso seguindo um esquema específico.\n",
      "\n",
      "É importante notar que a dose e a via de administração dependem do efeito analgésico desejado e das condições do paciente. Em alguns casos, a administração por via intravenosa ou intramuscular pode ser necessária. Além disso, o tratamento pode ser interrompido a qualquer instante sem provocar danos ao paciente.\n",
      "\n",
      "Não há informações sobre a dose para pacientes com idade inferior a 15 anos ou com condições específicas que possam afetar a posologia da dipirona.\n",
      "\n",
      "Referências:\n",
      "\n",
      "* Bula da dipirona (não especificada)\n",
      "* Wong et al. (2001) - não especificado\n",
      "* Izhar T. (1999) - não especificado\n"
     ]
    }
   ],
   "source": [
    "user_query = \"\"\"Extrair posologias indicadas segundo a bula da dipirona\"\"\"\n",
    "response = ask_question(user_query)\n",
    "print(response)"
   ]
  }
 ],
 "metadata": {
  "kernelspec": {
   "display_name": "Python 3 (ipykernel)",
   "language": "python",
   "name": "python3"
  },
  "language_info": {
   "codemirror_mode": {
    "name": "ipython",
    "version": 3
   },
   "file_extension": ".py",
   "mimetype": "text/x-python",
   "name": "python",
   "nbconvert_exporter": "python",
   "pygments_lexer": "ipython3",
   "version": "3.13.1"
  }
 },
 "nbformat": 4,
 "nbformat_minor": 4
}
